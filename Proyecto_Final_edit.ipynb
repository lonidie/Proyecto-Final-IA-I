{
  "nbformat": 4,
  "nbformat_minor": 0,
  "metadata": {
    "colab": {
      "name": "Proyecto Final edit.ipynb",
      "provenance": []
    },
    "kernelspec": {
      "name": "python3",
      "display_name": "Python 3"
    },
    "language_info": {
      "name": "python"
    }
  },
  "cells": [
    {
      "cell_type": "markdown",
      "source": [
        "#**INTRODUCCION**\n",
        "Debido al  aumento de nuevas  cripto monedas y analizando cómo han aumentado su valor con el paso del tiempo. Decidimos analizar la rentabilidad que se puede obtener en el alza o baja de este nuevo negocio. Para eso  analizamos las distintas características que debe tener una moneda para que tenga un aumento en la bolsa o en su caso contrario tenga una disminución en su valor. Esto con el objetivo de apoyar a nuevos inversores en la toma de la decisiones de adquirir o vender activos para lograr la rentabilidad más optima \n",
        "\n",
        "\n",
        "1. Analizar el  crecimiento en las ofertas de las  cripto monedas\n",
        "2. Comparar la rentabilidad entre las cripto monedas\n",
        "3. Apoyo en la toma de las decisiones dependiendo del flujo que tenga la cripto moneda\n",
        "4. Predecir si la cripto moneda aumenta o disminuye su valor "
      ],
      "metadata": {
        "id": "O7Ei8uPpexgM"
      }
    },
    {
      "cell_type": "code",
      "source": [
        "#@title **MONTAR EL DRIVE** { display-mode: \"form\" }\n",
        "import os\n",
        "from google.colab import drive\n",
        "\n",
        "path_ai = \"Curso-IA/PROYECTO FINAL\" #@param {type:\"string\"}\n",
        "path = \"/content/drive/My Drive/\" + path_ai\n",
        "drive.mount('/content/drive')\n",
        "os.chdir(path)\n",
        "print(os.getcwd())"
      ],
      "metadata": {
        "colab": {
          "base_uri": "https://localhost:8080/"
        },
        "id": "HykTmVhCgs-k",
        "outputId": "371ce7d8-c439-4852-b6b3-3e05b5e0f388"
      },
      "execution_count": 2,
      "outputs": [
        {
          "output_type": "stream",
          "name": "stdout",
          "text": [
            "Mounted at /content/drive\n",
            "/content/drive/My Drive/Curso-IA/PROYECTO FINAL\n"
          ]
        }
      ]
    },
    {
      "cell_type": "code",
      "source": [
        "#@title **Cargar Librerias Basicas** { display-mode: \"form\" }\n",
        "import pandas as pd\n",
        "import numpy as np\n",
        "import matplotlib.pyplot as plt\n",
        "from sklearn.metrics import *\n",
        "\n",
        "import tensorflow as tf\n",
        "from tensorflow import keras\n",
        "print(tf.__version__)"
      ],
      "metadata": {
        "colab": {
          "base_uri": "https://localhost:8080/"
        },
        "id": "xFdXsrEGgx9A",
        "outputId": "a1b2deff-913f-46f2-ad44-5d6d2cff0a80"
      },
      "execution_count": 25,
      "outputs": [
        {
          "output_type": "stream",
          "name": "stdout",
          "text": [
            "2.8.0\n"
          ]
        }
      ]
    },
    {
      "cell_type": "code",
      "source": [
        "#@title **Cargar datasets del Precio de las Criptos** { display-mode: \"form\" }\n",
        "dBitcoin = pd.read_csv(\"DATA/coin_Bitcoin.csv\")\n",
        "dEthereum = pd.read_csv(\"DATA/coin_Ethereum.csv\")\n",
        "dDogecoin = pd.read_csv(\"DATA/coin_Dogecoin.csv\")"
      ],
      "metadata": {
        "id": "9vrozMl_l26N"
      },
      "execution_count": 4,
      "outputs": []
    },
    {
      "cell_type": "code",
      "source": [
        "dBitcoin.head()"
      ],
      "metadata": {
        "colab": {
          "base_uri": "https://localhost:8080/",
          "height": 250
        },
        "id": "4525Qo3snyyy",
        "outputId": "30b5b459-6057-418a-d571-c20f6d075a18"
      },
      "execution_count": 6,
      "outputs": [
        {
          "output_type": "execute_result",
          "data": {
            "text/html": [
              "\n",
              "  <div id=\"df-321385eb-dbe5-491f-bde0-5118a9ca362e\">\n",
              "    <div class=\"colab-df-container\">\n",
              "      <div>\n",
              "<style scoped>\n",
              "    .dataframe tbody tr th:only-of-type {\n",
              "        vertical-align: middle;\n",
              "    }\n",
              "\n",
              "    .dataframe tbody tr th {\n",
              "        vertical-align: top;\n",
              "    }\n",
              "\n",
              "    .dataframe thead th {\n",
              "        text-align: right;\n",
              "    }\n",
              "</style>\n",
              "<table border=\"1\" class=\"dataframe\">\n",
              "  <thead>\n",
              "    <tr style=\"text-align: right;\">\n",
              "      <th></th>\n",
              "      <th>SNo</th>\n",
              "      <th>Name</th>\n",
              "      <th>Symbol</th>\n",
              "      <th>Date</th>\n",
              "      <th>High</th>\n",
              "      <th>Low</th>\n",
              "      <th>Open</th>\n",
              "      <th>Close</th>\n",
              "      <th>Volume</th>\n",
              "      <th>Marketcap</th>\n",
              "    </tr>\n",
              "  </thead>\n",
              "  <tbody>\n",
              "    <tr>\n",
              "      <th>0</th>\n",
              "      <td>1</td>\n",
              "      <td>Bitcoin</td>\n",
              "      <td>BTC</td>\n",
              "      <td>2013-04-29 23:59:59</td>\n",
              "      <td>147.488007</td>\n",
              "      <td>134.000000</td>\n",
              "      <td>134.444000</td>\n",
              "      <td>144.539993</td>\n",
              "      <td>0.0</td>\n",
              "      <td>1.603769e+09</td>\n",
              "    </tr>\n",
              "    <tr>\n",
              "      <th>1</th>\n",
              "      <td>2</td>\n",
              "      <td>Bitcoin</td>\n",
              "      <td>BTC</td>\n",
              "      <td>2013-04-30 23:59:59</td>\n",
              "      <td>146.929993</td>\n",
              "      <td>134.050003</td>\n",
              "      <td>144.000000</td>\n",
              "      <td>139.000000</td>\n",
              "      <td>0.0</td>\n",
              "      <td>1.542813e+09</td>\n",
              "    </tr>\n",
              "    <tr>\n",
              "      <th>2</th>\n",
              "      <td>3</td>\n",
              "      <td>Bitcoin</td>\n",
              "      <td>BTC</td>\n",
              "      <td>2013-05-01 23:59:59</td>\n",
              "      <td>139.889999</td>\n",
              "      <td>107.720001</td>\n",
              "      <td>139.000000</td>\n",
              "      <td>116.989998</td>\n",
              "      <td>0.0</td>\n",
              "      <td>1.298955e+09</td>\n",
              "    </tr>\n",
              "    <tr>\n",
              "      <th>3</th>\n",
              "      <td>4</td>\n",
              "      <td>Bitcoin</td>\n",
              "      <td>BTC</td>\n",
              "      <td>2013-05-02 23:59:59</td>\n",
              "      <td>125.599998</td>\n",
              "      <td>92.281898</td>\n",
              "      <td>116.379997</td>\n",
              "      <td>105.209999</td>\n",
              "      <td>0.0</td>\n",
              "      <td>1.168517e+09</td>\n",
              "    </tr>\n",
              "    <tr>\n",
              "      <th>4</th>\n",
              "      <td>5</td>\n",
              "      <td>Bitcoin</td>\n",
              "      <td>BTC</td>\n",
              "      <td>2013-05-03 23:59:59</td>\n",
              "      <td>108.127998</td>\n",
              "      <td>79.099998</td>\n",
              "      <td>106.250000</td>\n",
              "      <td>97.750000</td>\n",
              "      <td>0.0</td>\n",
              "      <td>1.085995e+09</td>\n",
              "    </tr>\n",
              "  </tbody>\n",
              "</table>\n",
              "</div>\n",
              "      <button class=\"colab-df-convert\" onclick=\"convertToInteractive('df-321385eb-dbe5-491f-bde0-5118a9ca362e')\"\n",
              "              title=\"Convert this dataframe to an interactive table.\"\n",
              "              style=\"display:none;\">\n",
              "        \n",
              "  <svg xmlns=\"http://www.w3.org/2000/svg\" height=\"24px\"viewBox=\"0 0 24 24\"\n",
              "       width=\"24px\">\n",
              "    <path d=\"M0 0h24v24H0V0z\" fill=\"none\"/>\n",
              "    <path d=\"M18.56 5.44l.94 2.06.94-2.06 2.06-.94-2.06-.94-.94-2.06-.94 2.06-2.06.94zm-11 1L8.5 8.5l.94-2.06 2.06-.94-2.06-.94L8.5 2.5l-.94 2.06-2.06.94zm10 10l.94 2.06.94-2.06 2.06-.94-2.06-.94-.94-2.06-.94 2.06-2.06.94z\"/><path d=\"M17.41 7.96l-1.37-1.37c-.4-.4-.92-.59-1.43-.59-.52 0-1.04.2-1.43.59L10.3 9.45l-7.72 7.72c-.78.78-.78 2.05 0 2.83L4 21.41c.39.39.9.59 1.41.59.51 0 1.02-.2 1.41-.59l7.78-7.78 2.81-2.81c.8-.78.8-2.07 0-2.86zM5.41 20L4 18.59l7.72-7.72 1.47 1.35L5.41 20z\"/>\n",
              "  </svg>\n",
              "      </button>\n",
              "      \n",
              "  <style>\n",
              "    .colab-df-container {\n",
              "      display:flex;\n",
              "      flex-wrap:wrap;\n",
              "      gap: 12px;\n",
              "    }\n",
              "\n",
              "    .colab-df-convert {\n",
              "      background-color: #E8F0FE;\n",
              "      border: none;\n",
              "      border-radius: 50%;\n",
              "      cursor: pointer;\n",
              "      display: none;\n",
              "      fill: #1967D2;\n",
              "      height: 32px;\n",
              "      padding: 0 0 0 0;\n",
              "      width: 32px;\n",
              "    }\n",
              "\n",
              "    .colab-df-convert:hover {\n",
              "      background-color: #E2EBFA;\n",
              "      box-shadow: 0px 1px 2px rgba(60, 64, 67, 0.3), 0px 1px 3px 1px rgba(60, 64, 67, 0.15);\n",
              "      fill: #174EA6;\n",
              "    }\n",
              "\n",
              "    [theme=dark] .colab-df-convert {\n",
              "      background-color: #3B4455;\n",
              "      fill: #D2E3FC;\n",
              "    }\n",
              "\n",
              "    [theme=dark] .colab-df-convert:hover {\n",
              "      background-color: #434B5C;\n",
              "      box-shadow: 0px 1px 3px 1px rgba(0, 0, 0, 0.15);\n",
              "      filter: drop-shadow(0px 1px 2px rgba(0, 0, 0, 0.3));\n",
              "      fill: #FFFFFF;\n",
              "    }\n",
              "  </style>\n",
              "\n",
              "      <script>\n",
              "        const buttonEl =\n",
              "          document.querySelector('#df-321385eb-dbe5-491f-bde0-5118a9ca362e button.colab-df-convert');\n",
              "        buttonEl.style.display =\n",
              "          google.colab.kernel.accessAllowed ? 'block' : 'none';\n",
              "\n",
              "        async function convertToInteractive(key) {\n",
              "          const element = document.querySelector('#df-321385eb-dbe5-491f-bde0-5118a9ca362e');\n",
              "          const dataTable =\n",
              "            await google.colab.kernel.invokeFunction('convertToInteractive',\n",
              "                                                     [key], {});\n",
              "          if (!dataTable) return;\n",
              "\n",
              "          const docLinkHtml = 'Like what you see? Visit the ' +\n",
              "            '<a target=\"_blank\" href=https://colab.research.google.com/notebooks/data_table.ipynb>data table notebook</a>'\n",
              "            + ' to learn more about interactive tables.';\n",
              "          element.innerHTML = '';\n",
              "          dataTable['output_type'] = 'display_data';\n",
              "          await google.colab.output.renderOutput(dataTable, element);\n",
              "          const docLink = document.createElement('div');\n",
              "          docLink.innerHTML = docLinkHtml;\n",
              "          element.appendChild(docLink);\n",
              "        }\n",
              "      </script>\n",
              "    </div>\n",
              "  </div>\n",
              "  "
            ],
            "text/plain": [
              "   SNo     Name Symbol                 Date        High         Low  \\\n",
              "0    1  Bitcoin    BTC  2013-04-29 23:59:59  147.488007  134.000000   \n",
              "1    2  Bitcoin    BTC  2013-04-30 23:59:59  146.929993  134.050003   \n",
              "2    3  Bitcoin    BTC  2013-05-01 23:59:59  139.889999  107.720001   \n",
              "3    4  Bitcoin    BTC  2013-05-02 23:59:59  125.599998   92.281898   \n",
              "4    5  Bitcoin    BTC  2013-05-03 23:59:59  108.127998   79.099998   \n",
              "\n",
              "         Open       Close  Volume     Marketcap  \n",
              "0  134.444000  144.539993     0.0  1.603769e+09  \n",
              "1  144.000000  139.000000     0.0  1.542813e+09  \n",
              "2  139.000000  116.989998     0.0  1.298955e+09  \n",
              "3  116.379997  105.209999     0.0  1.168517e+09  \n",
              "4  106.250000   97.750000     0.0  1.085995e+09  "
            ]
          },
          "metadata": {},
          "execution_count": 6
        }
      ]
    },
    {
      "cell_type": "code",
      "source": [
        "dEthereum.head()"
      ],
      "metadata": {
        "colab": {
          "base_uri": "https://localhost:8080/",
          "height": 250
        },
        "id": "3iVKBlItoH7B",
        "outputId": "71db8fe0-2ba9-43b1-ca7f-bb3321142cc6"
      },
      "execution_count": 8,
      "outputs": [
        {
          "output_type": "execute_result",
          "data": {
            "text/html": [
              "\n",
              "  <div id=\"df-acf58d07-8d9d-46b2-88fc-e03a25437d26\">\n",
              "    <div class=\"colab-df-container\">\n",
              "      <div>\n",
              "<style scoped>\n",
              "    .dataframe tbody tr th:only-of-type {\n",
              "        vertical-align: middle;\n",
              "    }\n",
              "\n",
              "    .dataframe tbody tr th {\n",
              "        vertical-align: top;\n",
              "    }\n",
              "\n",
              "    .dataframe thead th {\n",
              "        text-align: right;\n",
              "    }\n",
              "</style>\n",
              "<table border=\"1\" class=\"dataframe\">\n",
              "  <thead>\n",
              "    <tr style=\"text-align: right;\">\n",
              "      <th></th>\n",
              "      <th>SNo</th>\n",
              "      <th>Name</th>\n",
              "      <th>Symbol</th>\n",
              "      <th>Date</th>\n",
              "      <th>High</th>\n",
              "      <th>Low</th>\n",
              "      <th>Open</th>\n",
              "      <th>Close</th>\n",
              "      <th>Volume</th>\n",
              "      <th>Marketcap</th>\n",
              "    </tr>\n",
              "  </thead>\n",
              "  <tbody>\n",
              "    <tr>\n",
              "      <th>0</th>\n",
              "      <td>1</td>\n",
              "      <td>Ethereum</td>\n",
              "      <td>ETH</td>\n",
              "      <td>2015-08-08 23:59:59</td>\n",
              "      <td>2.798810</td>\n",
              "      <td>0.714725</td>\n",
              "      <td>2.793760</td>\n",
              "      <td>0.753325</td>\n",
              "      <td>674188.0</td>\n",
              "      <td>4.548689e+07</td>\n",
              "    </tr>\n",
              "    <tr>\n",
              "      <th>1</th>\n",
              "      <td>2</td>\n",
              "      <td>Ethereum</td>\n",
              "      <td>ETH</td>\n",
              "      <td>2015-08-09 23:59:59</td>\n",
              "      <td>0.879810</td>\n",
              "      <td>0.629191</td>\n",
              "      <td>0.706136</td>\n",
              "      <td>0.701897</td>\n",
              "      <td>532170.0</td>\n",
              "      <td>4.239957e+07</td>\n",
              "    </tr>\n",
              "    <tr>\n",
              "      <th>2</th>\n",
              "      <td>3</td>\n",
              "      <td>Ethereum</td>\n",
              "      <td>ETH</td>\n",
              "      <td>2015-08-10 23:59:59</td>\n",
              "      <td>0.729854</td>\n",
              "      <td>0.636546</td>\n",
              "      <td>0.713989</td>\n",
              "      <td>0.708448</td>\n",
              "      <td>405283.0</td>\n",
              "      <td>4.281836e+07</td>\n",
              "    </tr>\n",
              "    <tr>\n",
              "      <th>3</th>\n",
              "      <td>4</td>\n",
              "      <td>Ethereum</td>\n",
              "      <td>ETH</td>\n",
              "      <td>2015-08-11 23:59:59</td>\n",
              "      <td>1.131410</td>\n",
              "      <td>0.663235</td>\n",
              "      <td>0.708087</td>\n",
              "      <td>1.067860</td>\n",
              "      <td>1463100.0</td>\n",
              "      <td>6.456929e+07</td>\n",
              "    </tr>\n",
              "    <tr>\n",
              "      <th>4</th>\n",
              "      <td>5</td>\n",
              "      <td>Ethereum</td>\n",
              "      <td>ETH</td>\n",
              "      <td>2015-08-12 23:59:59</td>\n",
              "      <td>1.289940</td>\n",
              "      <td>0.883608</td>\n",
              "      <td>1.058750</td>\n",
              "      <td>1.217440</td>\n",
              "      <td>2150620.0</td>\n",
              "      <td>7.364501e+07</td>\n",
              "    </tr>\n",
              "  </tbody>\n",
              "</table>\n",
              "</div>\n",
              "      <button class=\"colab-df-convert\" onclick=\"convertToInteractive('df-acf58d07-8d9d-46b2-88fc-e03a25437d26')\"\n",
              "              title=\"Convert this dataframe to an interactive table.\"\n",
              "              style=\"display:none;\">\n",
              "        \n",
              "  <svg xmlns=\"http://www.w3.org/2000/svg\" height=\"24px\"viewBox=\"0 0 24 24\"\n",
              "       width=\"24px\">\n",
              "    <path d=\"M0 0h24v24H0V0z\" fill=\"none\"/>\n",
              "    <path d=\"M18.56 5.44l.94 2.06.94-2.06 2.06-.94-2.06-.94-.94-2.06-.94 2.06-2.06.94zm-11 1L8.5 8.5l.94-2.06 2.06-.94-2.06-.94L8.5 2.5l-.94 2.06-2.06.94zm10 10l.94 2.06.94-2.06 2.06-.94-2.06-.94-.94-2.06-.94 2.06-2.06.94z\"/><path d=\"M17.41 7.96l-1.37-1.37c-.4-.4-.92-.59-1.43-.59-.52 0-1.04.2-1.43.59L10.3 9.45l-7.72 7.72c-.78.78-.78 2.05 0 2.83L4 21.41c.39.39.9.59 1.41.59.51 0 1.02-.2 1.41-.59l7.78-7.78 2.81-2.81c.8-.78.8-2.07 0-2.86zM5.41 20L4 18.59l7.72-7.72 1.47 1.35L5.41 20z\"/>\n",
              "  </svg>\n",
              "      </button>\n",
              "      \n",
              "  <style>\n",
              "    .colab-df-container {\n",
              "      display:flex;\n",
              "      flex-wrap:wrap;\n",
              "      gap: 12px;\n",
              "    }\n",
              "\n",
              "    .colab-df-convert {\n",
              "      background-color: #E8F0FE;\n",
              "      border: none;\n",
              "      border-radius: 50%;\n",
              "      cursor: pointer;\n",
              "      display: none;\n",
              "      fill: #1967D2;\n",
              "      height: 32px;\n",
              "      padding: 0 0 0 0;\n",
              "      width: 32px;\n",
              "    }\n",
              "\n",
              "    .colab-df-convert:hover {\n",
              "      background-color: #E2EBFA;\n",
              "      box-shadow: 0px 1px 2px rgba(60, 64, 67, 0.3), 0px 1px 3px 1px rgba(60, 64, 67, 0.15);\n",
              "      fill: #174EA6;\n",
              "    }\n",
              "\n",
              "    [theme=dark] .colab-df-convert {\n",
              "      background-color: #3B4455;\n",
              "      fill: #D2E3FC;\n",
              "    }\n",
              "\n",
              "    [theme=dark] .colab-df-convert:hover {\n",
              "      background-color: #434B5C;\n",
              "      box-shadow: 0px 1px 3px 1px rgba(0, 0, 0, 0.15);\n",
              "      filter: drop-shadow(0px 1px 2px rgba(0, 0, 0, 0.3));\n",
              "      fill: #FFFFFF;\n",
              "    }\n",
              "  </style>\n",
              "\n",
              "      <script>\n",
              "        const buttonEl =\n",
              "          document.querySelector('#df-acf58d07-8d9d-46b2-88fc-e03a25437d26 button.colab-df-convert');\n",
              "        buttonEl.style.display =\n",
              "          google.colab.kernel.accessAllowed ? 'block' : 'none';\n",
              "\n",
              "        async function convertToInteractive(key) {\n",
              "          const element = document.querySelector('#df-acf58d07-8d9d-46b2-88fc-e03a25437d26');\n",
              "          const dataTable =\n",
              "            await google.colab.kernel.invokeFunction('convertToInteractive',\n",
              "                                                     [key], {});\n",
              "          if (!dataTable) return;\n",
              "\n",
              "          const docLinkHtml = 'Like what you see? Visit the ' +\n",
              "            '<a target=\"_blank\" href=https://colab.research.google.com/notebooks/data_table.ipynb>data table notebook</a>'\n",
              "            + ' to learn more about interactive tables.';\n",
              "          element.innerHTML = '';\n",
              "          dataTable['output_type'] = 'display_data';\n",
              "          await google.colab.output.renderOutput(dataTable, element);\n",
              "          const docLink = document.createElement('div');\n",
              "          docLink.innerHTML = docLinkHtml;\n",
              "          element.appendChild(docLink);\n",
              "        }\n",
              "      </script>\n",
              "    </div>\n",
              "  </div>\n",
              "  "
            ],
            "text/plain": [
              "   SNo      Name Symbol                 Date      High       Low      Open  \\\n",
              "0    1  Ethereum    ETH  2015-08-08 23:59:59  2.798810  0.714725  2.793760   \n",
              "1    2  Ethereum    ETH  2015-08-09 23:59:59  0.879810  0.629191  0.706136   \n",
              "2    3  Ethereum    ETH  2015-08-10 23:59:59  0.729854  0.636546  0.713989   \n",
              "3    4  Ethereum    ETH  2015-08-11 23:59:59  1.131410  0.663235  0.708087   \n",
              "4    5  Ethereum    ETH  2015-08-12 23:59:59  1.289940  0.883608  1.058750   \n",
              "\n",
              "      Close     Volume     Marketcap  \n",
              "0  0.753325   674188.0  4.548689e+07  \n",
              "1  0.701897   532170.0  4.239957e+07  \n",
              "2  0.708448   405283.0  4.281836e+07  \n",
              "3  1.067860  1463100.0  6.456929e+07  \n",
              "4  1.217440  2150620.0  7.364501e+07  "
            ]
          },
          "metadata": {},
          "execution_count": 8
        }
      ]
    },
    {
      "cell_type": "code",
      "source": [
        "dDogecoin.head()"
      ],
      "metadata": {
        "colab": {
          "base_uri": "https://localhost:8080/",
          "height": 206
        },
        "id": "VOhPymIYoN4r",
        "outputId": "c30afc30-be5f-4f0d-ae15-3f09b10d4ae7"
      },
      "execution_count": 9,
      "outputs": [
        {
          "output_type": "execute_result",
          "data": {
            "text/html": [
              "\n",
              "  <div id=\"df-58b20b46-40a3-4699-9420-36d5dd7472df\">\n",
              "    <div class=\"colab-df-container\">\n",
              "      <div>\n",
              "<style scoped>\n",
              "    .dataframe tbody tr th:only-of-type {\n",
              "        vertical-align: middle;\n",
              "    }\n",
              "\n",
              "    .dataframe tbody tr th {\n",
              "        vertical-align: top;\n",
              "    }\n",
              "\n",
              "    .dataframe thead th {\n",
              "        text-align: right;\n",
              "    }\n",
              "</style>\n",
              "<table border=\"1\" class=\"dataframe\">\n",
              "  <thead>\n",
              "    <tr style=\"text-align: right;\">\n",
              "      <th></th>\n",
              "      <th>SNo</th>\n",
              "      <th>Name</th>\n",
              "      <th>Symbol</th>\n",
              "      <th>Date</th>\n",
              "      <th>High</th>\n",
              "      <th>Low</th>\n",
              "      <th>Open</th>\n",
              "      <th>Close</th>\n",
              "      <th>Volume</th>\n",
              "      <th>Marketcap</th>\n",
              "    </tr>\n",
              "  </thead>\n",
              "  <tbody>\n",
              "    <tr>\n",
              "      <th>0</th>\n",
              "      <td>1</td>\n",
              "      <td>Dogecoin</td>\n",
              "      <td>DOGE</td>\n",
              "      <td>2013-12-16 23:59:59</td>\n",
              "      <td>0.000866</td>\n",
              "      <td>0.000150</td>\n",
              "      <td>0.000299</td>\n",
              "      <td>0.000205</td>\n",
              "      <td>0.0</td>\n",
              "      <td>1.509085e+06</td>\n",
              "    </tr>\n",
              "    <tr>\n",
              "      <th>1</th>\n",
              "      <td>2</td>\n",
              "      <td>Dogecoin</td>\n",
              "      <td>DOGE</td>\n",
              "      <td>2013-12-17 23:59:59</td>\n",
              "      <td>0.000289</td>\n",
              "      <td>0.000116</td>\n",
              "      <td>0.000207</td>\n",
              "      <td>0.000269</td>\n",
              "      <td>0.0</td>\n",
              "      <td>2.169688e+06</td>\n",
              "    </tr>\n",
              "    <tr>\n",
              "      <th>2</th>\n",
              "      <td>3</td>\n",
              "      <td>Dogecoin</td>\n",
              "      <td>DOGE</td>\n",
              "      <td>2013-12-18 23:59:59</td>\n",
              "      <td>0.000362</td>\n",
              "      <td>0.000205</td>\n",
              "      <td>0.000267</td>\n",
              "      <td>0.000362</td>\n",
              "      <td>0.0</td>\n",
              "      <td>3.188943e+06</td>\n",
              "    </tr>\n",
              "    <tr>\n",
              "      <th>3</th>\n",
              "      <td>4</td>\n",
              "      <td>Dogecoin</td>\n",
              "      <td>DOGE</td>\n",
              "      <td>2013-12-19 23:59:59</td>\n",
              "      <td>0.001520</td>\n",
              "      <td>0.000328</td>\n",
              "      <td>0.000395</td>\n",
              "      <td>0.001162</td>\n",
              "      <td>0.0</td>\n",
              "      <td>1.115034e+07</td>\n",
              "    </tr>\n",
              "    <tr>\n",
              "      <th>4</th>\n",
              "      <td>5</td>\n",
              "      <td>Dogecoin</td>\n",
              "      <td>DOGE</td>\n",
              "      <td>2013-12-20 23:59:59</td>\n",
              "      <td>0.001143</td>\n",
              "      <td>0.000662</td>\n",
              "      <td>0.001143</td>\n",
              "      <td>0.000704</td>\n",
              "      <td>0.0</td>\n",
              "      <td>7.284337e+06</td>\n",
              "    </tr>\n",
              "  </tbody>\n",
              "</table>\n",
              "</div>\n",
              "      <button class=\"colab-df-convert\" onclick=\"convertToInteractive('df-58b20b46-40a3-4699-9420-36d5dd7472df')\"\n",
              "              title=\"Convert this dataframe to an interactive table.\"\n",
              "              style=\"display:none;\">\n",
              "        \n",
              "  <svg xmlns=\"http://www.w3.org/2000/svg\" height=\"24px\"viewBox=\"0 0 24 24\"\n",
              "       width=\"24px\">\n",
              "    <path d=\"M0 0h24v24H0V0z\" fill=\"none\"/>\n",
              "    <path d=\"M18.56 5.44l.94 2.06.94-2.06 2.06-.94-2.06-.94-.94-2.06-.94 2.06-2.06.94zm-11 1L8.5 8.5l.94-2.06 2.06-.94-2.06-.94L8.5 2.5l-.94 2.06-2.06.94zm10 10l.94 2.06.94-2.06 2.06-.94-2.06-.94-.94-2.06-.94 2.06-2.06.94z\"/><path d=\"M17.41 7.96l-1.37-1.37c-.4-.4-.92-.59-1.43-.59-.52 0-1.04.2-1.43.59L10.3 9.45l-7.72 7.72c-.78.78-.78 2.05 0 2.83L4 21.41c.39.39.9.59 1.41.59.51 0 1.02-.2 1.41-.59l7.78-7.78 2.81-2.81c.8-.78.8-2.07 0-2.86zM5.41 20L4 18.59l7.72-7.72 1.47 1.35L5.41 20z\"/>\n",
              "  </svg>\n",
              "      </button>\n",
              "      \n",
              "  <style>\n",
              "    .colab-df-container {\n",
              "      display:flex;\n",
              "      flex-wrap:wrap;\n",
              "      gap: 12px;\n",
              "    }\n",
              "\n",
              "    .colab-df-convert {\n",
              "      background-color: #E8F0FE;\n",
              "      border: none;\n",
              "      border-radius: 50%;\n",
              "      cursor: pointer;\n",
              "      display: none;\n",
              "      fill: #1967D2;\n",
              "      height: 32px;\n",
              "      padding: 0 0 0 0;\n",
              "      width: 32px;\n",
              "    }\n",
              "\n",
              "    .colab-df-convert:hover {\n",
              "      background-color: #E2EBFA;\n",
              "      box-shadow: 0px 1px 2px rgba(60, 64, 67, 0.3), 0px 1px 3px 1px rgba(60, 64, 67, 0.15);\n",
              "      fill: #174EA6;\n",
              "    }\n",
              "\n",
              "    [theme=dark] .colab-df-convert {\n",
              "      background-color: #3B4455;\n",
              "      fill: #D2E3FC;\n",
              "    }\n",
              "\n",
              "    [theme=dark] .colab-df-convert:hover {\n",
              "      background-color: #434B5C;\n",
              "      box-shadow: 0px 1px 3px 1px rgba(0, 0, 0, 0.15);\n",
              "      filter: drop-shadow(0px 1px 2px rgba(0, 0, 0, 0.3));\n",
              "      fill: #FFFFFF;\n",
              "    }\n",
              "  </style>\n",
              "\n",
              "      <script>\n",
              "        const buttonEl =\n",
              "          document.querySelector('#df-58b20b46-40a3-4699-9420-36d5dd7472df button.colab-df-convert');\n",
              "        buttonEl.style.display =\n",
              "          google.colab.kernel.accessAllowed ? 'block' : 'none';\n",
              "\n",
              "        async function convertToInteractive(key) {\n",
              "          const element = document.querySelector('#df-58b20b46-40a3-4699-9420-36d5dd7472df');\n",
              "          const dataTable =\n",
              "            await google.colab.kernel.invokeFunction('convertToInteractive',\n",
              "                                                     [key], {});\n",
              "          if (!dataTable) return;\n",
              "\n",
              "          const docLinkHtml = 'Like what you see? Visit the ' +\n",
              "            '<a target=\"_blank\" href=https://colab.research.google.com/notebooks/data_table.ipynb>data table notebook</a>'\n",
              "            + ' to learn more about interactive tables.';\n",
              "          element.innerHTML = '';\n",
              "          dataTable['output_type'] = 'display_data';\n",
              "          await google.colab.output.renderOutput(dataTable, element);\n",
              "          const docLink = document.createElement('div');\n",
              "          docLink.innerHTML = docLinkHtml;\n",
              "          element.appendChild(docLink);\n",
              "        }\n",
              "      </script>\n",
              "    </div>\n",
              "  </div>\n",
              "  "
            ],
            "text/plain": [
              "   SNo      Name Symbol                 Date      High       Low      Open  \\\n",
              "0    1  Dogecoin   DOGE  2013-12-16 23:59:59  0.000866  0.000150  0.000299   \n",
              "1    2  Dogecoin   DOGE  2013-12-17 23:59:59  0.000289  0.000116  0.000207   \n",
              "2    3  Dogecoin   DOGE  2013-12-18 23:59:59  0.000362  0.000205  0.000267   \n",
              "3    4  Dogecoin   DOGE  2013-12-19 23:59:59  0.001520  0.000328  0.000395   \n",
              "4    5  Dogecoin   DOGE  2013-12-20 23:59:59  0.001143  0.000662  0.001143   \n",
              "\n",
              "      Close  Volume     Marketcap  \n",
              "0  0.000205     0.0  1.509085e+06  \n",
              "1  0.000269     0.0  2.169688e+06  \n",
              "2  0.000362     0.0  3.188943e+06  \n",
              "3  0.001162     0.0  1.115034e+07  \n",
              "4  0.000704     0.0  7.284337e+06  "
            ]
          },
          "metadata": {},
          "execution_count": 9
        }
      ]
    },
    {
      "cell_type": "code",
      "source": [
        "#@title **Graficas Valor en el mercado Bitcoin** { display-mode: \"form\" }\n",
        "dBitcoin.plot(\"Date\",\"Close\")\n"
      ],
      "metadata": {
        "colab": {
          "base_uri": "https://localhost:8080/",
          "height": 296
        },
        "id": "sLpf5A4Dm-J6",
        "outputId": "151878c8-49d1-4685-c7a9-f5b312243fec"
      },
      "execution_count": 7,
      "outputs": [
        {
          "output_type": "execute_result",
          "data": {
            "text/plain": [
              "<matplotlib.axes._subplots.AxesSubplot at 0x7f7bee5f8610>"
            ]
          },
          "metadata": {},
          "execution_count": 7
        },
        {
          "output_type": "display_data",
          "data": {
            "image/png": "[encoded data removed]",
            "text/plain": [
              "<Figure size 432x288 with 1 Axes>"
            ]
          },
          "metadata": {
            "needs_background": "light"
          }
        }
      ]
    },
    {
      "cell_type": "code",
      "source": [
        "#@title **Graficas Valor en el mercado Ethereum** { display-mode: \"form\" }\n",
        "dEthereum.plot(\"Date\",\"Close\")"
      ],
      "metadata": {
        "colab": {
          "base_uri": "https://localhost:8080/",
          "height": 296
        },
        "id": "DfABhvN3obQG",
        "outputId": "8a9a46c9-4f97-4001-db71-92e09d390e7d"
      },
      "execution_count": 10,
      "outputs": [
        {
          "output_type": "execute_result",
          "data": {
            "text/plain": [
              "<matplotlib.axes._subplots.AxesSubplot at 0x7f7bee50c890>"
            ]
          },
          "metadata": {},
          "execution_count": 10
        },
        {
          "output_type": "display_data",
          "data": {
            "image/png": "[encoded data removed]",
            "text/plain": [
              "<Figure size 432x288 with 1 Axes>"
            ]
          },
          "metadata": {
            "needs_background": "light"
          }
        }
      ]
    },
    {
      "cell_type": "code",
      "source": [
        "#@title **Graficas Valor en el mercado Dogecoin** { display-mode: \"form\" }\n",
        "dDogecoin.plot(\"Date\",\"Close\")"
      ],
      "metadata": {
        "colab": {
          "base_uri": "https://localhost:8080/",
          "height": 296
        },
        "id": "xumSD--Pogxl",
        "outputId": "55e817a6-65b0-4882-a2e3-b0819de7ac63"
      },
      "execution_count": 12,
      "outputs": [
        {
          "output_type": "execute_result",
          "data": {
            "text/plain": [
              "<matplotlib.axes._subplots.AxesSubplot at 0x7f7bedea42d0>"
            ]
          },
          "metadata": {},
          "execution_count": 12
        },
        {
          "output_type": "display_data",
          "data": {
            "image/png": "[encoded data removed]",
            "text/plain": [
              "<Figure size 432x288 with 1 Axes>"
            ]
          },
          "metadata": {
            "needs_background": "light"
          }
        }
      ]
    },
    {
      "cell_type": "markdown",
      "source": [
        "Definimos una función para poder realizar una clasificación de cómo se comporta la criptomoneda en ese día, analizando si el precio con el que cerro el mercado ese día cambio de manera que el valor de este sube queda igual o cierra el mercado en ese día\n",
        "\n",
        "\n",
        "\n"
      ],
      "metadata": {
        "id": "4mWIrE5rttz6"
      }
    },
    {
      "cell_type": "code",
      "source": [
        "def y_behavior(data):\n",
        "  y = np.zeros(len(data))\n",
        "  for i in range(0,len(data)):\n",
        "    if(data.iloc[i][7]>data.iloc[i][6]):\n",
        "      y[i] = 1\n",
        "    else:\n",
        "      y[i] = 0\n",
        "  return y"
      ],
      "metadata": {
        "id": "XLsQeLFdox6r"
      },
      "execution_count": 14,
      "outputs": []
    },
    {
      "cell_type": "markdown",
      "source": [
        "Realizamos una repartición de 80-20 para poder definir la cantidad de datos que se usaran para entrenar los diferentes estimadores y la cantidad de datos para realizar las pruebas, para esto utilizamos la función Train Test Split"
      ],
      "metadata": {
        "id": "TzpeIPzbvaak"
      }
    },
    {
      "cell_type": "code",
      "source": [
        "\n",
        "\n",
        "#Bitcoin\n",
        "\n",
        "XBit = dBitcoin.values[:,[4,5,6]].astype(\"float32\")\n",
        "yBit = y_behavior(dBitcoin)\n",
        "\n",
        "#Ethereum\n",
        "\n",
        "XEth = dEthereum.values[:,[4,5,6]].astype(\"float32\")\n",
        "yEth = y_behavior(dEthereum)\n",
        "\n",
        "#Dogecoin\n",
        "\n",
        "XDog = dDogecoin.values[:,[4,5,6]].astype(\"float32\")\n",
        "yDog = y_behavior(dDogecoin)\n",
        "\n",
        "\n",
        "def traintest(X,y):\n",
        "  from sklearn.model_selection import train_test_split\n",
        "  Xtrain,Xtest,ytrain,ytest= train_test_split(X,y,test_size=0.2,random_state=21)\n",
        "  return Xtrain,Xtest,ytrain,ytest\n",
        " "
      ],
      "metadata": {
        "id": "l-9FXkpsvazP"
      },
      "execution_count": 79,
      "outputs": []
    },
    {
      "cell_type": "markdown",
      "source": [
        "Definimos las funciones de los diferentes metodos que vamos a utilizar para el problema de clasificación. En este caso solo definiremos los metodos de Machine Learning vistos en la materia"
      ],
      "metadata": {
        "id": "ba9KIhQ_2aeJ"
      }
    },
    {
      "cell_type": "code",
      "source": [
        "def Gaussian(X,y):\n",
        "  from sklearn.naive_bayes import GaussianNB\n",
        "\n",
        "  Xtrain,Xtest,ytrain,ytest=traintest(X,y)\n",
        "  est = GaussianNB()\n",
        "  est.fit(Xtrain,ytrain)\n",
        "  ypred = est.predict(Xtest)\n",
        "  return accuracy_score(ypred,ytest)\n",
        "\n",
        "def DecisionTree(X,y):\n",
        "  from sklearn.tree import DecisionTreeClassifier\n",
        "  Xtrain,Xtest,ytrain,ytest=traintest(X,y)\n",
        "  est = DecisionTreeClassifier(max_depth=10)\n",
        "  est.fit(Xtrain,ytrain)\n",
        "  ypred = est.predict(Xtest)\n",
        "  return accuracy_score(ypred,ytest)\n",
        "\n",
        "def RandomForest(X,y):\n",
        "  from sklearn.ensemble import RandomForestClassifier\n",
        "  Xtrain,Xtest,ytrain,ytest=traintest(X,y)\n",
        "  est = RandomForestClassifier()\n",
        "  est.fit(Xtrain,ytrain)\n",
        "  ypred = est.predict(Xtest)\n",
        "  return accuracy_score(ypred,ytest)\n",
        "\n",
        "def SVC(X,y):\n",
        "  from sklearn.svm import SVC\n",
        "  est = SVC()\n",
        "  Xtrain,Xtest,ytrain,ytest=traintest(X,y)\n",
        "  est.fit(Xtrain,ytrain)\n",
        "  ypred = est.predict(Xtest)\n",
        "  return accuracy_score(ypred,ytest)"
      ],
      "metadata": {
        "id": "AMJQPtc52a1A"
      },
      "execution_count": 20,
      "outputs": []
    },
    {
      "cell_type": "markdown",
      "source": [
        "#**Bitcoin** "
      ],
      "metadata": {
        "id": "_pJfPviY2WZl"
      }
    },
    {
      "cell_type": "code",
      "source": [
        "print(\"accuracy de los diferentes metodos para Bitcoin:\")\n",
        "print(\"accuracy Gaussian NB:\")\n",
        "print(Gaussian(XBit,yBit))\n",
        "print(\"accuracy Desicion Tress:\")\n",
        "print(DecisionTree(XBit,yBit))\n",
        "print(\"accuracy Random Forest:\")\n",
        "print(RandomForest(XBit,yBit))\n",
        "print(\"accuracy SVC:\")\n",
        "print(SVC(XBit,yBit))"
      ],
      "metadata": {
        "colab": {
          "base_uri": "https://localhost:8080/"
        },
        "id": "-ykgAL-P66BD",
        "outputId": "cf0fd1a1-357c-4cfd-dc54-3cbb5e6dab14"
      },
      "execution_count": 21,
      "outputs": [
        {
          "output_type": "stream",
          "name": "stdout",
          "text": [
            "accuracy de los diferentes metodos para Bitcoin:\n",
            "accuracy Gaussian NB:\n",
            "0.544543429844098\n",
            "accuracy Desicion Tress:\n",
            "0.579064587973274\n",
            "accuracy Random Forest:\n",
            "0.6971046770601337\n",
            "accuracy SVC:\n",
            "0.5523385300668151\n"
          ]
        }
      ]
    },
    {
      "cell_type": "markdown",
      "source": [
        "#**Ethereum** "
      ],
      "metadata": {
        "id": "iewAOrqF7plq"
      }
    },
    {
      "cell_type": "code",
      "source": [
        "print(\"accuracy de los diferentes metodos para Ethereum:\")\n",
        "print(\"accuracy Gaussian NB:\")\n",
        "print(Gaussian(XEth,yEth))\n",
        "print(\"accuracy Desicion Tress:\")\n",
        "print(DecisionTree(XEth,yEth))\n",
        "print(\"accuracy Random Forest:\")\n",
        "print(RandomForest(XEth,yEth))\n",
        "print(\"accuracy SVC:\")\n",
        "print(SVC(XEth,yEth))"
      ],
      "metadata": {
        "colab": {
          "base_uri": "https://localhost:8080/"
        },
        "id": "TF4VJlVN7vPB",
        "outputId": "0ca11031-fa8c-4fd4-c8cc-b378c21977b8"
      },
      "execution_count": 23,
      "outputs": [
        {
          "output_type": "stream",
          "name": "stdout",
          "text": [
            "accuracy de los diferentes metodos para Ethereum:\n",
            "accuracy Gaussian NB:\n",
            "0.5308641975308642\n",
            "accuracy Desicion Tress:\n",
            "0.5339506172839507\n",
            "accuracy Random Forest:\n",
            "0.7021604938271605\n",
            "accuracy SVC:\n",
            "0.5324074074074074\n"
          ]
        }
      ]
    },
    {
      "cell_type": "markdown",
      "source": [
        "#**Dogecoin** "
      ],
      "metadata": {
        "id": "snSfyTJV75Ws"
      }
    },
    {
      "cell_type": "code",
      "source": [
        "print(\"accuracy de los diferentes metodos para Dogecoin:\")\n",
        "print(\"accuracy Gaussian NB:\")\n",
        "print(Gaussian(XEth,yEth))\n",
        "print(\"accuracy Desicion Tress:\")\n",
        "print(DecisionTree(XEth,yEth))\n",
        "print(\"accuracy Random Forest:\")\n",
        "print(RandomForest(XEth,yEth))\n",
        "print(\"accuracy SVC:\")\n",
        "print(SVC(XEth,yEth))"
      ],
      "metadata": {
        "colab": {
          "base_uri": "https://localhost:8080/"
        },
        "id": "HsmcRVRu7-LS",
        "outputId": "590b3659-3351-491a-f733-480dfe38d31e"
      },
      "execution_count": 24,
      "outputs": [
        {
          "output_type": "stream",
          "name": "stdout",
          "text": [
            "accuracy de los diferentes metodos para Dogecoin:\n",
            "accuracy Gaussian NB:\n",
            "0.5308641975308642\n",
            "accuracy Desicion Tress:\n",
            "0.5339506172839507\n",
            "accuracy Random Forest:\n",
            "0.6990740740740741\n",
            "accuracy SVC:\n",
            "0.5324074074074074\n"
          ]
        }
      ]
    },
    {
      "cell_type": "markdown",
      "source": [
        "## **Modelo DNN**\n",
        "\n",
        "Para este modelo se tiene encuenta que tambien lo tomaremos como un problema de clasificacion en la que son solamente posibles dos salidas de esta red neuronal."
      ],
      "metadata": {
        "id": "NhauUQDZ8LRF"
      }
    },
    {
      "cell_type": "markdown",
      "source": [
        "### **BITCOIN**"
      ],
      "metadata": {
        "id": "m8MRMJn2-S1K"
      }
    },
    {
      "cell_type": "code",
      "source": [
        "from sklearn.model_selection import train_test_split\n",
        "\n",
        "Xtrain, Xtest, ytrain, ytest = train_test_split(XBit,yBit,test_size=0.2)\n",
        "\n",
        "Xtrain=Xtrain.astype(\"float32\")\n",
        "Xtest= Xtest.astype(\"float32\")\n",
        "ytrain_ohe = tf.keras.utils.to_categorical(ytrain, num_classes=2)\n",
        "ytest_ohe = tf.keras.utils.to_categorical(ytest, num_classes=2)"
      ],
      "metadata": {
        "id": "X609_Vm9-Son"
      },
      "execution_count": 143,
      "outputs": []
    },
    {
      "cell_type": "code",
      "source": [
        "model = tf.keras.Sequential([\n",
        "    tf.keras.layers.Flatten(),\n",
        "    tf.keras.layers.Dense(256, activation='relu'),\n",
        "    tf.keras.layers.Dense(128, activation='tanh'),\n",
        "    tf.keras.layers.Dense(64, activation='relu'),\n",
        "    tf.keras.layers.Dense(32, activation='relu'),\n",
        "    tf.keras.layers.Dense(16, activation='relu'),\n",
        "    tf.keras.layers.Dense(2, activation='sigmoid')\n",
        "])\n",
        "\n"
      ],
      "metadata": {
        "id": "6-XUHAUs8mWk"
      },
      "execution_count": 144,
      "outputs": []
    },
    {
      "cell_type": "code",
      "source": [
        "model.compile(optimizer=tf.keras.optimizers.SGD(), \n",
        "              loss='binary_crossentropy',\n",
        "              metrics=['accuracy'])\n",
        "model.fit(Xtrain, ytrain_ohe, epochs=10)"
      ],
      "metadata": {
        "colab": {
          "base_uri": "https://localhost:8080/"
        },
        "id": "TONheaJZ9Etz",
        "outputId": "f22a629b-5b92-4c4c-cb3d-d7994b563f55"
      },
      "execution_count": 145,
      "outputs": [
        {
          "output_type": "stream",
          "name": "stdout",
          "text": [
            "Epoch 1/10\n",
            "75/75 [==============================] - 1s 2ms/step - loss: 0.6906 - accuracy: 0.5418\n",
            "Epoch 2/10\n",
            "75/75 [==============================] - 0s 2ms/step - loss: 0.6901 - accuracy: 0.5477\n",
            "Epoch 3/10\n",
            "75/75 [==============================] - 0s 2ms/step - loss: 0.6898 - accuracy: 0.5439\n",
            "Epoch 4/10\n",
            "75/75 [==============================] - 0s 2ms/step - loss: 0.6896 - accuracy: 0.5439\n",
            "Epoch 5/10\n",
            "75/75 [==============================] - 0s 2ms/step - loss: 0.6899 - accuracy: 0.5439\n",
            "Epoch 6/10\n",
            "75/75 [==============================] - 0s 2ms/step - loss: 0.6897 - accuracy: 0.5443\n",
            "Epoch 7/10\n",
            "75/75 [==============================] - 0s 2ms/step - loss: 0.6909 - accuracy: 0.5439\n",
            "Epoch 8/10\n",
            "75/75 [==============================] - 0s 2ms/step - loss: 0.6898 - accuracy: 0.5439\n",
            "Epoch 9/10\n",
            "75/75 [==============================] - 0s 2ms/step - loss: 0.6897 - accuracy: 0.5439\n",
            "Epoch 10/10\n",
            "75/75 [==============================] - 0s 2ms/step - loss: 0.6899 - accuracy: 0.5439\n"
          ]
        },
        {
          "output_type": "execute_result",
          "data": {
            "text/plain": [
              "<keras.callbacks.History at 0x7f7b62884190>"
            ]
          },
          "metadata": {},
          "execution_count": 145
        }
      ]
    },
    {
      "cell_type": "code",
      "source": [
        "test_loss, test_acc = model.evaluate(Xtest, ytest_ohe)\n",
        "\n",
        "print( 'Test accuracy:', test_acc, \" test_loss: \", test_loss)"
      ],
      "metadata": {
        "colab": {
          "base_uri": "https://localhost:8080/"
        },
        "id": "kStr0FnR-t0o",
        "outputId": "37c0d985-00dc-4686-927d-6698a67eb9f7"
      },
      "execution_count": 146,
      "outputs": [
        {
          "output_type": "stream",
          "name": "stdout",
          "text": [
            "19/19 [==============================] - 0s 1ms/step - loss: 0.6942 - accuracy: 0.5142\n",
            "Test accuracy: 0.5141903162002563  test_loss:  0.6942247152328491\n"
          ]
        }
      ]
    },
    {
      "cell_type": "markdown",
      "source": [
        "### **Ethereum**"
      ],
      "metadata": {
        "id": "6ocXQKX7IOE0"
      }
    },
    {
      "cell_type": "code",
      "source": [
        "from sklearn.model_selection import train_test_split\n",
        "\n",
        "Xtrain, Xtest, ytrain, ytest = train_test_split(XEth,yEth,test_size=0.2)\n",
        "\n",
        "Xtrain=Xtrain.astype(\"float32\")\n",
        "Xtest= Xtest.astype(\"float32\")\n",
        "ytrain_ohe = tf.keras.utils.to_categorical(ytrain, num_classes=2)\n",
        "ytest_ohe = tf.keras.utils.to_categorical(ytest, num_classes=2)"
      ],
      "metadata": {
        "id": "OW754iNtI87t"
      },
      "execution_count": null,
      "outputs": []
    },
    {
      "cell_type": "code",
      "source": [
        "model = tf.keras.Sequential([\n",
        "    tf.keras.layers.Flatten(),\n",
        "    tf.keras.layers.Dense(256, activation='relu'),\n",
        "    tf.keras.layers.Dense(128, activation='tanh'),\n",
        "    tf.keras.layers.Dense(64, activation='relu'),\n",
        "    tf.keras.layers.Dense(32, activation='relu'),\n",
        "    tf.keras.layers.Dense(16, activation='relu'),\n",
        "    tf.keras.layers.Dense(2, activation='sigmoid')\n",
        "])"
      ],
      "metadata": {
        "id": "BUixBUMWJLRV"
      },
      "execution_count": null,
      "outputs": []
    },
    {
      "cell_type": "code",
      "source": [
        "model.compile(optimizer=tf.keras.optimizers.SGD(), \n",
        "              loss='binary_crossentropy',\n",
        "              metrics=['accuracy'])\n",
        "model.fit(Xtrain, ytrain_ohe, epochs=10)"
      ],
      "metadata": {
        "id": "A8FuIyeHJOsI"
      },
      "execution_count": null,
      "outputs": []
    },
    {
      "cell_type": "code",
      "source": [
        "test_loss, test_acc = model.evaluate(Xtest, ytest_ohe)\n",
        "\n",
        "print( 'Test accuracy:', test_acc, \" test_loss: \", test_loss)"
      ],
      "metadata": {
        "id": "vMAi6JtGJQiR"
      },
      "execution_count": null,
      "outputs": []
    },
    {
      "cell_type": "markdown",
      "source": [
        "### **Dogecoin**"
      ],
      "metadata": {
        "id": "EwVRwlA2JShQ"
      }
    },
    {
      "cell_type": "code",
      "source": [
        "from sklearn.model_selection import train_test_split\n",
        "\n",
        "Xtrain, Xtest, ytrain, ytest = train_test_split(XDog,yDog,test_size=0.2)\n",
        "\n",
        "Xtrain=Xtrain.astype(\"float32\")\n",
        "Xtest= Xtest.astype(\"float32\")\n",
        "ytrain_ohe = tf.keras.utils.to_categorical(ytrain, num_classes=2)\n",
        "ytest_ohe = tf.keras.utils.to_categorical(ytest, num_classes=2)"
      ],
      "metadata": {
        "id": "zqOPac2mJWcp"
      },
      "execution_count": 138,
      "outputs": []
    },
    {
      "cell_type": "code",
      "source": [
        "model = tf.keras.Sequential([\n",
        "    tf.keras.layers.Flatten(),\n",
        "    tf.keras.layers.Dense(256, activation='relu'),\n",
        "    tf.keras.layers.Dense(128, activation='tanh'),\n",
        "    tf.keras.layers.Dense(64, activation='relu'),\n",
        "    tf.keras.layers.Dense(32, activation='relu'),\n",
        "    tf.keras.layers.Dense(16, activation='relu'),\n",
        "    tf.keras.layers.Dense(2, activation='sigmoid')\n",
        "])"
      ],
      "metadata": {
        "id": "-MjUF0WNJbrT"
      },
      "execution_count": 139,
      "outputs": []
    },
    {
      "cell_type": "code",
      "source": [
        "model.compile(optimizer=tf.keras.optimizers.SGD(), \n",
        "              loss='binary_crossentropy',\n",
        "              metrics=['accuracy'])\n",
        "model.fit(Xtrain, ytrain_ohe, epochs=10)"
      ],
      "metadata": {
        "colab": {
          "base_uri": "https://localhost:8080/"
        },
        "id": "b2tWgZWvJdYg",
        "outputId": "471a14a5-b827-4250-ec89-46f4757decd2"
      },
      "execution_count": 140,
      "outputs": [
        {
          "output_type": "stream",
          "name": "stdout",
          "text": [
            "Epoch 1/10\n",
            "69/69 [==============================] - 1s 2ms/step - loss: 0.6931 - accuracy: 0.5190\n",
            "Epoch 2/10\n",
            "69/69 [==============================] - 0s 2ms/step - loss: 0.6928 - accuracy: 0.5258\n",
            "Epoch 3/10\n",
            "69/69 [==============================] - 0s 2ms/step - loss: 0.6926 - accuracy: 0.5240\n",
            "Epoch 4/10\n",
            "69/69 [==============================] - 0s 2ms/step - loss: 0.6924 - accuracy: 0.5254\n",
            "Epoch 5/10\n",
            "69/69 [==============================] - 0s 2ms/step - loss: 0.6922 - accuracy: 0.5258\n",
            "Epoch 6/10\n",
            "69/69 [==============================] - 0s 2ms/step - loss: 0.6921 - accuracy: 0.5263\n",
            "Epoch 7/10\n",
            "69/69 [==============================] - 0s 2ms/step - loss: 0.6921 - accuracy: 0.5272\n",
            "Epoch 8/10\n",
            "69/69 [==============================] - 0s 2ms/step - loss: 0.6920 - accuracy: 0.5272\n",
            "Epoch 9/10\n",
            "69/69 [==============================] - 0s 2ms/step - loss: 0.6919 - accuracy: 0.5267\n",
            "Epoch 10/10\n",
            "69/69 [==============================] - 0s 2ms/step - loss: 0.6919 - accuracy: 0.5263\n"
          ]
        },
        {
          "output_type": "execute_result",
          "data": {
            "text/plain": [
              "<keras.callbacks.History at 0x7f7b63200fd0>"
            ]
          },
          "metadata": {},
          "execution_count": 140
        }
      ]
    },
    {
      "cell_type": "code",
      "source": [
        "test_loss, test_acc = model.evaluate(Xtest, ytest_ohe)\n",
        "\n",
        "print( 'Test accuracy:', test_acc, \" test_loss: \", test_loss)"
      ],
      "metadata": {
        "colab": {
          "base_uri": "https://localhost:8080/"
        },
        "id": "ZK4luSXzJe78",
        "outputId": "ff22767f-3d24-4b98-d291-e982b7d0405e"
      },
      "execution_count": 141,
      "outputs": [
        {
          "output_type": "stream",
          "name": "stdout",
          "text": [
            "18/18 [==============================] - 0s 2ms/step - loss: 0.6895 - accuracy: 0.5562\n",
            "Test accuracy: 0.5561594367027283  test_loss:  0.6895375847816467\n"
          ]
        }
      ]
    }
  ]
}